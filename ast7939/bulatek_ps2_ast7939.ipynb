{
 "cells": [
  {
   "cell_type": "markdown",
   "metadata": {},
   "source": [
    "# Problem Set 2\n",
    "**Mathematical Methods in Astrophysics (AST 7939)** \\\n",
    "**Alyssa Bulatek** \\\n",
    "**February 4, 2021**"
   ]
  },
  {
   "cell_type": "code",
   "execution_count": 1,
   "metadata": {},
   "outputs": [],
   "source": [
    "import numpy as np\n",
    "import matplotlib.pyplot as plt\n",
    "import matplotlib.colors as mcolors\n",
    "from matplotlib.colors import Normalize\n",
    "import time"
   ]
  },
  {
   "cell_type": "markdown",
   "metadata": {},
   "source": [
    "## Problem 3\n",
    "\n",
    "Meshgrid documentation: https://numpy.org/doc/stable/reference/generated/numpy.meshgrid.html"
   ]
  },
  {
   "cell_type": "code",
   "execution_count": 2,
   "metadata": {},
   "outputs": [],
   "source": [
    "def get_vectors(nsamp_x, nsamp_y, min_x, max_x, min_y, max_y):\n",
    "    '''Generate x and y vectors with boundaries and number of samples.'''\n",
    "#     print(\"Now getting x and y vectors from sample point and boundary specs\")\n",
    "    vec_x = np.linspace(min_x, max_x, nsamp_x)\n",
    "    vec_y = np.linspace(min_y, max_y, nsamp_y)\n",
    "#     print(\"Sample points retrieved!\")\n",
    "    return vec_x, vec_y\n",
    "\n",
    "def get_meshgrid(vec_x, vec_y):\n",
    "    '''Generate a meshgrid based on a set of x and y vectors'''\n",
    "#     print(\"Now generating meshgrid from x and y vectors\")\n",
    "    vals_x, vals_y = np.meshgrid(vec_x, vec_y)\n",
    "#     print(\"Meshgrid generated!\")\n",
    "    return vals_x, vals_y\n",
    "\n",
    "def sinc_2D(vals_x, vals_y):\n",
    "    '''Calculate the values of a 2-dimensional sinc function on a meshgrid of x and y values.'''\n",
    "#     print(\"Now calculating sinc function value at each meshgrid point\")\n",
    "    r_sq = vals_x**2 + vals_y**2\n",
    "    vals_z = np.sin(r_sq)/r_sq\n",
    "#     print(\"Sinc function value calculated!\")\n",
    "    return vals_z\n",
    "    \n",
    "def plot_on_meshgrid(vec_x, vec_y, vals_z):\n",
    "    '''Plot the values z of a function on an x and y meshgrid.'''\n",
    "#     print(\"Plotting function values on meshgrid\")\n",
    "    h = plt.contourf(vec_x, vec_y, vals_z)\n",
    "    plt.gca().set_aspect(\"equal\")\n",
    "    plt.show()\n",
    "#     print(\"Plotting complete!\")\n",
    "    \n",
    "def integrate_vectorized_sum(nsamp_x, nsamp_y, min_x, max_x, min_y, max_y):\n",
    "    '''Integrate a 2D function on a meshgrid using np.sum().'''\n",
    "#     print(\"Integrating function in 2D with vectorized sum approach\")\n",
    "    vec_x, vec_y = get_vectors(nsamp_x, nsamp_y, min_x, max_x, min_y, max_y)\n",
    "    vals_x, vals_y = get_meshgrid(vec_x, vec_y)\n",
    "    vals_z = sinc_2D(vals_x, vals_y)\n",
    "#     plot_on_meshgrid(vec_x, vec_y, vals_z)\n",
    "    dx = (float(max_x) - float(min_x))/float(nsamp_x)\n",
    "    dy = (float(max_y) - float(min_y))/float(nsamp_y)\n",
    "    integral = np.sum(vals_z)*dx*dy\n",
    "#     print(\"Vectorized sum integral computed! Result:\",integral)\n",
    "    return integral\n",
    "\n",
    "def integrate_vectorized_loop(nsamp_x, nsamp_y, min_x, max_x, min_y, max_y):\n",
    "    '''Integrate a 2D function on a meshgrid using a meshgrid and loops.'''\n",
    "#     print(\"Integrating function in 2D with vectorized loop approach\")\n",
    "    vec_x, vec_y = get_vectors(nsamp_x, nsamp_y, min_x, max_x, min_y, max_y)\n",
    "    vals_x, vals_y = get_meshgrid(vec_x, vec_y)\n",
    "    vals_z = sinc_2D(vals_x, vals_y)\n",
    "#     plot_on_meshgrid(vec_x, vec_y, vals_z)\n",
    "    dx = (float(max_x) - float(min_x))/float(nsamp_x)\n",
    "    dy = (float(max_y) - float(min_y))/float(nsamp_y)\n",
    "    integral = 0.\n",
    "    for i in range(0, nsamp_x, 1):\n",
    "        for j in range(0, nsamp_y, 1):\n",
    "            integral += vals_z[i,j]\n",
    "    integral *= dx*dy\n",
    "#     print(\"Vectorized loop integral computed! Result:\",integral)\n",
    "    return integral\n",
    "\n",
    "def integrate_looping(nsamp_x, nsamp_y, min_x, max_x, min_y, max_y):\n",
    "    '''Integrate a 2D function using a simple looping technique.'''\n",
    "#     print(\"Integrating function in 2D with looping approach\")\n",
    "    vec_x, vec_y = get_vectors(nsamp_x, nsamp_y, min_x, max_x, min_y, max_y)\n",
    "    dx = (float(max_x) - float(min_x))/float(nsamp_x)\n",
    "    dy = (float(max_y) - float(min_y))/float(nsamp_y)\n",
    "    integral = 0.\n",
    "    for i in range(0, nsamp_x, 1):\n",
    "        for j in range(0, nsamp_y, 1):\n",
    "            r_sq = vec_x[i]**2 + vec_y[j]**2\n",
    "            integral += np.sin(r_sq)/r_sq\n",
    "    integral *= dx*dy\n",
    "#     print(\"Looping integral computed! Result:\",integral)\n",
    "    return integral"
   ]
  },
  {
   "cell_type": "code",
   "execution_count": 3,
   "metadata": {},
   "outputs": [
    {
     "name": "stdout",
     "output_type": "stream",
     "text": [
      "Total time for 1000 iterations of vectorized sum: 33.687444000000006 seconds\n",
      "Average time per iteration for vectorized sum: 0.033687444000000004 seconds\n",
      "Total time for 1000 iterations of vectorized loop: 506.078138 seconds\n",
      "Average time per iteration for vectorized loop: 0.506078138 seconds\n",
      "Total time for 1000 iterations of manual loop: 4727.804255999999 seconds\n",
      "Average time per iteration for manual loop: 4.727804256 seconds\n"
     ]
    }
   ],
   "source": [
    "# Set number of samples and boundaries for integration in x and y\n",
    "nsamp_x, nsamp_y = 1000, 1000\n",
    "min_x, max_x = -5, 5\n",
    "min_y, max_y = -5, 5\n",
    "\n",
    "# Set number of times to repeat integration for timing purposes\n",
    "# Using time.process_time() should reduce the contribution to the total time from stopwatch operations\n",
    "niter = 1000\n",
    "\n",
    "# Time vectorized sum integration\n",
    "start = time.process_time()\n",
    "for i in range(0, niter):\n",
    "    int_v_s = integrate_vectorized_sum(nsamp_x, nsamp_y, min_x, max_x, min_y, max_y)\n",
    "total = time.process_time() - start\n",
    "print(\"Total time for\",niter,\"iterations of vectorized sum:\",total,\"seconds\")\n",
    "print(\"Average time per iteration for vectorized sum:\",total/niter,\"seconds\")\n",
    "\n",
    "# Time vectorized loop integration\n",
    "start = time.process_time()\n",
    "for i in range(0, niter):\n",
    "    int_v_l = integrate_vectorized_loop(nsamp_x, nsamp_y, min_x, max_x, min_y, max_y)\n",
    "total = time.process_time() - start\n",
    "print(\"Total time for\",niter,\"iterations of vectorized loop:\",total,\"seconds\")\n",
    "print(\"Average time per iteration for vectorized loop:\",total/niter,\"seconds\")\n",
    "\n",
    "# Time simple loop integration\n",
    "start = time.process_time()\n",
    "for i in range(0, niter):\n",
    "    int_l = integrate_looping(nsamp_x, nsamp_y, min_x, max_x, min_y, max_y)\n",
    "total = time.process_time() - start\n",
    "print(\"Total time for\",niter,\"iterations of manual loop:\",total,\"seconds\")\n",
    "print(\"Average time per iteration for manual loop:\",total/niter,\"seconds\")"
   ]
  },
  {
   "cell_type": "markdown",
   "metadata": {},
   "source": [
    "## Problem 4"
   ]
  },
  {
   "cell_type": "code",
   "execution_count": 4,
   "metadata": {},
   "outputs": [],
   "source": [
    "def multiply_loop(row_vector, square_matrix):\n",
    "    '''Use a simple looping process to take the dot product of a matrix and a vector.'''\n",
    "#     print(\"Computing dot product manually\")\n",
    "    product = np.zeros(len(row_vector))\n",
    "    for i in range(square_matrix.shape[0]):\n",
    "        tot = 0.\n",
    "        for j in range(square_matrix.shape[1]):\n",
    "            tot += row_vector[j]*square_matrix[i,j]\n",
    "        product[i] = tot\n",
    "#     print(\"Dot product successfully computed!\")"
   ]
  },
  {
   "cell_type": "code",
   "execution_count": 5,
   "metadata": {},
   "outputs": [
    {
     "name": "stdout",
     "output_type": "stream",
     "text": [
      "Total time for 1000 iterations of manual dot product: 10.900109999999586 seconds\n",
      "Average time per iteration for manual dot product: 0.010900109999999586 seconds\n",
      "Total time for 1000 iterations of manual dot product: 10927222000 nanoseconds\n",
      "Average time per iteration for manual dot product: 10927222.0 nanoseconds\n",
      "Total time for 1000 iterations of numpy dot product: 0.01578200000039942 seconds\n",
      "Average time per iteration for numpy dot product: 1.5782000000399422e-05 seconds\n",
      "Total time for 1000 iterations of numpy dot product: 14602000 nanoseconds\n",
      "Average time per iteration for numpy dot product: 14602.0 nanoseconds\n"
     ]
    }
   ],
   "source": [
    "# Set row vector and square matrix to multiply\n",
    "row_vector = np.arange(0,100)\n",
    "square_matrix = np.arange(0,10000).reshape(100,100)\n",
    "\n",
    "# Set number of times to repeat integration for timing purposes\n",
    "# Using time.process_time() should reduce the contribution to the total time from stopwatch operations\n",
    "niter = 1000\n",
    "\n",
    "# Time manual dot product\n",
    "start = time.process_time()\n",
    "for i in range(0, niter):\n",
    "    multiply_loop(row_vector, square_matrix)\n",
    "total = time.process_time() - start\n",
    "print(\"Total time for\",niter,\"iterations of manual dot product:\",total,\"seconds\")\n",
    "print(\"Average time per iteration for manual dot product:\",total/niter,\"seconds\")\n",
    "\n",
    "# Time manual dot product using nanosecond precision\n",
    "start = time.process_time_ns()\n",
    "for i in range(0, niter):\n",
    "    multiply_loop(row_vector, square_matrix)\n",
    "total = time.process_time_ns() - start\n",
    "print(\"Total time for\",niter,\"iterations of manual dot product:\",total,\"nanoseconds\")\n",
    "print(\"Average time per iteration for manual dot product:\",total/niter,\"nanoseconds\")\n",
    "\n",
    "# Time np.dot() product\n",
    "start = time.process_time()\n",
    "for i in range(0, niter):\n",
    "    np.dot(square_matrix,row_vector)\n",
    "total = time.process_time() - start\n",
    "print(\"Total time for\",niter,\"iterations of numpy dot product:\",total,\"seconds\")\n",
    "print(\"Average time per iteration for numpy dot product:\",total/niter,\"seconds\")\n",
    "\n",
    "# Time np.dot() product using nanosecond precision\n",
    "start = time.process_time_ns()\n",
    "for i in range(0, niter):\n",
    "    np.dot(square_matrix,row_vector)\n",
    "total = time.process_time_ns() - start\n",
    "print(\"Total time for\",niter,\"iterations of numpy dot product:\",total,\"nanoseconds\")\n",
    "print(\"Average time per iteration for numpy dot product:\",total/niter,\"nanoseconds\")"
   ]
  },
  {
   "cell_type": "code",
   "execution_count": null,
   "metadata": {},
   "outputs": [],
   "source": []
  }
 ],
 "metadata": {
  "kernelspec": {
   "display_name": "Python 3",
   "language": "python",
   "name": "python3"
  },
  "language_info": {
   "codemirror_mode": {
    "name": "ipython",
    "version": 3
   },
   "file_extension": ".py",
   "mimetype": "text/x-python",
   "name": "python",
   "nbconvert_exporter": "python",
   "pygments_lexer": "ipython3",
   "version": "3.7.3"
  }
 },
 "nbformat": 4,
 "nbformat_minor": 4
}
