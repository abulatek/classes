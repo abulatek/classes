{
 "cells": [
  {
   "cell_type": "code",
   "execution_count": 15,
   "metadata": {},
   "outputs": [],
   "source": [
    "from glob import glob\n",
    "from astropy.io import fits\n",
    "import numpy as np\n",
    "from ccdproc import ImageFileCollection\n",
    "import matplotlib.pyplot as plt"
   ]
  },
  {
   "cell_type": "markdown",
   "metadata": {},
   "source": [
    "### 0. Verify all FITS headers, as some do not conform to standard."
   ]
  },
  {
   "cell_type": "markdown",
   "metadata": {},
   "source": [
    "This was a very frustrating step. On November 2 and 3, the FITS headers had two entries for LST and HA. This broke my normal file I/O code, which would have taken me a long time to rewrite. So, I wrote this small script to remove those parameters from the FITS headers for all of my files. Hopefully, this issue can be fixed at the telescope-level.\n",
    "\n",
    "Also, I manually went in and changed all forward slashes in FITS filenames to periods."
   ]
  },
  {
   "cell_type": "code",
   "execution_count": 2,
   "metadata": {
    "scrolled": false
   },
   "outputs": [],
   "source": [
    "def standardize_FITS(filepath):\n",
    "    all_filenames = glob(filepath, recursive=True)\n",
    "    n = 0\n",
    "    for filename in all_filenames:\n",
    "        data, header = fits.getdata(filename, header=True)\n",
    "        header.remove('LST', ignore_missing=True)\n",
    "        header.remove('LST', ignore_missing=True) # Need to do this twice... because there's two of them\n",
    "        header.remove('HA', ignore_missing=True)\n",
    "        header.remove('HA', ignore_missing=True) # Need to do this twice... because there's two of them\n",
    "        fits.writeto(filename, data, header, overwrite=True)\n",
    "        n += 1\n",
    "        print(n,\"done\")\n",
    "    print(\"all done!\")"
   ]
  },
  {
   "cell_type": "code",
   "execution_count": 3,
   "metadata": {},
   "outputs": [],
   "source": [
    "# standardize_FITS('data/**/*.fits') # Standardize all FITS files for the project"
   ]
  },
  {
   "cell_type": "markdown",
   "metadata": {},
   "source": [
    "### 0.1. Import CY Aqr frames, dark frames, and flat frames, excluding flagged bad frames."
   ]
  },
  {
   "cell_type": "code",
   "execution_count": 5,
   "metadata": {},
   "outputs": [],
   "source": [
    "directory_day1 = 'data/2020-10-26'\n",
    "ic_cyaqr_day1 = ImageFileCollection(directory_day1, keywords='*', glob_include='CY_Aqr*', glob_exclude='*bad*')\n",
    "ic_darks_day1 = ImageFileCollection(directory_day1, keywords='*', glob_include='dark*', glob_exclude='*bad*')\n",
    "directory_day2 = 'data/2020-10-27'\n",
    "ic_cyaqr_day2 = ImageFileCollection(directory_day2, keywords='*', glob_include='CY_Aqr*', glob_exclude='*bad*')\n",
    "ic_darks_day2 = ImageFileCollection(directory_day2, keywords='*', glob_include='dark*', glob_exclude='*bad*')\n",
    "ic_flats_day2 = ImageFileCollection(directory_day2, keywords='*', glob_include='flat*', glob_exclude='*bad*')\n",
    "directory_day3 = 'data/2020-11-02'\n",
    "ic_cyaqr_day3 = ImageFileCollection(directory_day3, keywords='*', glob_include='CY_Aqr*', glob_exclude='*bad*')\n",
    "ic_darks_day3 = ImageFileCollection(directory_day3, keywords='*', glob_include='dark*', glob_exclude='*bad*')\n",
    "ic_flats_day3 = ImageFileCollection(directory_day3, keywords='*', glob_include='flat*', glob_exclude='*bad*')\n",
    "directory_day4 = 'data/2020-11-03'\n",
    "ic_cyaqr_day4 = ImageFileCollection(directory_day4, keywords='*', glob_include='CY_Aqr*', glob_exclude='*bad*')\n",
    "ic_darks_day4 = ImageFileCollection(directory_day4, keywords='*', glob_include='dark*', glob_exclude='*bad*')\n",
    "ic_flats_day4 = ImageFileCollection(directory_day4, keywords='*', glob_include='flat*', glob_exclude='*bad*')"
   ]
  },
  {
   "cell_type": "markdown",
   "metadata": {},
   "source": [
    "### 0.2. Reduce the data.\n",
    "First, I'll produce **final dark frames** for each science and flat exposure time."
   ]
  },
  {
   "cell_type": "code",
   "execution_count": 30,
   "metadata": {},
   "outputs": [],
   "source": [
    "def make_final_dark(ic_files, directory):\n",
    "    # Pass this function some dark frames from an image collection\n",
    "    # and it will create a final dark frame.\n",
    "    lst = []\n",
    "    for i in range(len(ic_files)):\n",
    "        lst.append(fits.getdata(directory+'/'+ic_files[i]))\n",
    "    arr = np.array(lst)\n",
    "    final_dark = np.median(arr, axis=0)\n",
    "    return final_dark"
   ]
  },
  {
   "cell_type": "code",
   "execution_count": 132,
   "metadata": {},
   "outputs": [],
   "source": [
    "final_dark_15s_day1_day2 = make_final_dark(ic_darks_day1.files_filtered(exptime=15), directory_day1)\n",
    "final_dark_5s_day1_day2 = make_final_dark(ic_darks_day2.files_filtered(exptime=5), directory_day2)\n",
    "final_dark_15s_day3 = make_final_dark(ic_darks_day3.files_filtered(exptime=15), directory_day3)\n",
    "final_dark_2s_day3 = make_final_dark(ic_darks_day3.files_filtered(exptime=2), directory_day3)\n",
    "final_dark_15s_day4 = make_final_dark(ic_darks_day4.files_filtered(exptime=15), directory_day4)\n",
    "final_dark_2s_day4 = make_final_dark(ic_darks_day4.files_filtered(exptime=2), directory_day4)"
   ]
  },
  {
   "cell_type": "markdown",
   "metadata": {},
   "source": [
    "Then, I'll produce **normalized final flat frames** for each filter (only V band)."
   ]
  },
  {
   "cell_type": "code",
   "execution_count": 133,
   "metadata": {},
   "outputs": [],
   "source": [
    "def make_norm_final_flat(ic_files, directory, final_dark):\n",
    "    # Pass this function some flat frames and a final dark frame\n",
    "    # and it will create a normalized final flat field image.\n",
    "    lst = []\n",
    "    for i in range(len(ic_files)):\n",
    "        lst.append(fits.getdata(directory+'/'+ic_files[i]))\n",
    "    arr = np.array(lst)\n",
    "    median_combined_flat = np.median(arr, axis=0)\n",
    "    final_flat = median_combined_flat - final_dark # These should have the same exposure time\n",
    "    norm_final_flat = final_flat/np.nanmedian(final_flat)\n",
    "    return norm_final_flat"
   ]
  },
  {
   "cell_type": "code",
   "execution_count": 134,
   "metadata": {},
   "outputs": [],
   "source": [
    "norm_final_flat_day1_day2 = make_norm_final_flat(ic_flats_day2.files_filtered(exptime=5), directory_day2, final_dark_5s_day1_day2)\n",
    "norm_final_flat_day3 = make_norm_final_flat(ic_flats_day3.files_filtered(exptime=2), directory_day3, final_dark_2s_day3)\n",
    "norm_final_flat_day4 = make_norm_final_flat(ic_flats_day4.files_filtered(exptime=2), directory_day4, final_dark_2s_day4)"
   ]
  },
  {
   "cell_type": "markdown",
   "metadata": {},
   "source": [
    "Now, I will perform dark-subtraction and flat-field-correction on our science frames in the V band. Since we are only working with a single exposure time, this process is simplified. First, I'll dark-subtract each individual science frame using the **final dark frame** with the correct exposure time. I'll also keep the time of the observation linked with  each science frame."
   ]
  },
  {
   "cell_type": "code",
   "execution_count": 135,
   "metadata": {},
   "outputs": [],
   "source": [
    "def get_star_images_times(ic_files, directory):\n",
    "    frames = []\n",
    "    times = []\n",
    "    for i in range(len(ic_files)):\n",
    "        frame = fits.getdata(directory+'/'+ic_files[i])\n",
    "        frames.append(frame)\n",
    "        hdr = fits.getheader(directory+'/'+ic_files[i])\n",
    "        times.append(hdr['DATE-OBS'])\n",
    "    frames_arr = np.array(frames)\n",
    "    times_arr = np.array(times)\n",
    "    return frames_arr, times_arr"
   ]
  },
  {
   "cell_type": "code",
   "execution_count": 136,
   "metadata": {},
   "outputs": [],
   "source": [
    "# Extract images of stars as well as exposure times\n",
    "cyaqr_im_day1, cyaqr_tm_day1 = get_star_images_times(ic_cyaqr_day1.files_filtered(exptime=15), directory_day1)\n",
    "cyaqr_im_day2, cyaqr_tm_day2 = get_star_images_times(ic_cyaqr_day2.files_filtered(exptime=15), directory_day2)\n",
    "cyaqr_im_day3, cyaqr_tm_day3 = get_star_images_times(ic_cyaqr_day3.files_filtered(exptime=15), directory_day3)\n",
    "cyaqr_im_day4, cyaqr_tm_day4 = get_star_images_times(ic_cyaqr_day4.files_filtered(exptime=15), directory_day4)"
   ]
  },
  {
   "cell_type": "code",
   "execution_count": 137,
   "metadata": {},
   "outputs": [],
   "source": [
    "# Use array broadcasting to dark-subtract appropriate dark frames from each science frame\n",
    "cyaqr_im_day1_d = cyaqr_im_day1 - final_dark_15s_day1_day2[np.newaxis,:,:] # Use array brdcstng to dark-subtract\n",
    "cyaqr_im_day2_d = cyaqr_im_day2 - final_dark_15s_day1_day2[np.newaxis,:,:] # Use array brdcstng to dark-subtract\n",
    "cyaqr_im_day3_d = cyaqr_im_day3 - final_dark_15s_day3[np.newaxis,:,:] # Use array brdcstng to dark-subtract\n",
    "cyaqr_im_day4_d = cyaqr_im_day4 - final_dark_15s_day4[np.newaxis,:,:] # Use array brdcstng to dark-subtract"
   ]
  },
  {
   "cell_type": "markdown",
   "metadata": {},
   "source": [
    "Then, I'll flat-field correct each individual science frame using the **final flat frame** for the correct filter."
   ]
  },
  {
   "cell_type": "code",
   "execution_count": 138,
   "metadata": {},
   "outputs": [],
   "source": [
    "cyaqr_im_day1_d_f = cyaqr_im_day1_d/norm_final_flat_day1_day2[np.newaxis,:,:] # Arr brdcstng to flat-field correct\n",
    "cyaqr_im_day2_d_f = cyaqr_im_day2_d/norm_final_flat_day1_day2[np.newaxis,:,:] # Arr brdcstng to flat-field correct\n",
    "cyaqr_im_day3_d_f = cyaqr_im_day3_d/norm_final_flat_day3[np.newaxis,:,:] # Arr brdcstng to flat-field correct\n",
    "cyaqr_im_day4_d_f = cyaqr_im_day4_d/norm_final_flat_day4[np.newaxis,:,:] # Arr brdcstng to flat-field correct"
   ]
  },
  {
   "cell_type": "code",
   "execution_count": null,
   "metadata": {},
   "outputs": [],
   "source": []
  }
 ],
 "metadata": {
  "kernelspec": {
   "display_name": "Python 3",
   "language": "python",
   "name": "python3"
  },
  "language_info": {
   "codemirror_mode": {
    "name": "ipython",
    "version": 3
   },
   "file_extension": ".py",
   "mimetype": "text/x-python",
   "name": "python",
   "nbconvert_exporter": "python",
   "pygments_lexer": "ipython3",
   "version": "3.7.3"
  }
 },
 "nbformat": 4,
 "nbformat_minor": 2
}
