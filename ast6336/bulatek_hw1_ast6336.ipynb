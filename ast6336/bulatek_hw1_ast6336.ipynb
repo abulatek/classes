{
 "cells": [
  {
   "cell_type": "markdown",
   "metadata": {},
   "source": [
    "**Astrophysics of the Interstellar Medium** \\\n",
    "**Homework 1** \\\n",
    "**Alyssa Bulatek** \\\n",
    "**February 25, 2021**"
   ]
  },
  {
   "cell_type": "markdown",
   "metadata": {},
   "source": [
    "## 1. Maxwell-Boltzmann Statistics"
   ]
  },
  {
   "cell_type": "code",
   "execution_count": 1,
   "metadata": {},
   "outputs": [],
   "source": [
    "import numpy as np\n",
    "from astropy import units as u\n",
    "from astropy import constants as const\n",
    "from scipy.integrate import quad\n",
    "import math"
   ]
  },
  {
   "cell_type": "code",
   "execution_count": 2,
   "metadata": {},
   "outputs": [],
   "source": [
    "def maxwell_boltzmann_dist(v, T_e):\n",
    "    '''Generate a Maxwell-Boltzmann distribution as a function of speed\n",
    "    given a temperature in Kelvin (provide as a float without units).'''\n",
    "    m_e = const.m_e.value # in kg\n",
    "    k_B = const.k_B.value # in J/K\n",
    "    return 4*np.pi*(m_e/(2*np.pi*k_B*T_e))**(3/2)*(v**2)*np.exp(-(m_e*(v**2))/(2*k_B*T_e))"
   ]
  },
  {
   "cell_type": "code",
   "execution_count": 3,
   "metadata": {},
   "outputs": [
    {
     "name": "stdout",
     "output_type": "stream",
     "text": [
      "The fraction of electrons that can ionize hydrogen at 10000 K is 5.58e-12.\n"
     ]
    },
    {
     "name": "stderr",
     "output_type": "stream",
     "text": [
      "/anaconda3/lib/python3.7/site-packages/ipykernel_launcher.py:2: IntegrationWarning: The integral is probably divergent, or slowly convergent.\n",
      "  \n"
     ]
    }
   ],
   "source": [
    "T_e = 10**4 # in K\n",
    "frac_of_electrons = quad(maxwell_boltzmann_dist, 2.19*(10**6), np.inf, args=(T_e))\n",
    "print(\"The fraction of electrons that can ionize hydrogen at {} K is {:.2e}.\".format(T_e,frac_of_electrons[0]))"
   ]
  },
  {
   "cell_type": "markdown",
   "metadata": {},
   "source": [
    "## 2. Critical Densities"
   ]
  },
  {
   "cell_type": "markdown",
   "metadata": {},
   "source": [
    "### Compute the first ten critical densities of the CO rotational emission lines\n",
    "https://home.strw.leidenuniv.nl/~moldata/datafiles/co.dat"
   ]
  },
  {
   "cell_type": "code",
   "execution_count": 4,
   "metadata": {},
   "outputs": [],
   "source": [
    "lower = np.array([1, 2, 3, 4, 5, 6, 7, 8, 9, 10])\n",
    "upper = lower + 1\n",
    "einstein_A_ul = np.array([7.203e-08, 6.910e-07, 2.497e-06, 6.126e-06, 1.221e-05, \n",
    "                          2.137e-05, 3.422e-05, 5.134e-05, 7.330e-05, 1.006e-04])/u.s\n",
    "q_ul = np.array([3.302E-11, 7.150E-11, 7.946E-11, 8.114E-11, 6.553E-11, \n",
    "                 5.799E-11, 5.807E-11, 6.315E-11, 7.198E-11, 8.031E-11])*u.cm**3/u.s"
   ]
  },
  {
   "cell_type": "code",
   "execution_count": 5,
   "metadata": {},
   "outputs": [],
   "source": [
    "# Calculate critical densities\n",
    "n_cr = einstein_A_ul/q_ul"
   ]
  },
  {
   "cell_type": "code",
   "execution_count": 6,
   "metadata": {},
   "outputs": [
    {
     "name": "stdout",
     "output_type": "stream",
     "text": [
      "The critical density for the CO J = 2 to 1 transition is 2.1814e+03 1 / cm3.\n",
      "The critical density for the CO J = 3 to 2 transition is 9.6643e+03 1 / cm3.\n",
      "The critical density for the CO J = 4 to 3 transition is 3.1425e+04 1 / cm3.\n",
      "The critical density for the CO J = 5 to 4 transition is 7.5499e+04 1 / cm3.\n",
      "The critical density for the CO J = 6 to 5 transition is 1.8633e+05 1 / cm3.\n",
      "The critical density for the CO J = 7 to 6 transition is 3.6851e+05 1 / cm3.\n",
      "The critical density for the CO J = 8 to 7 transition is 5.8929e+05 1 / cm3.\n",
      "The critical density for the CO J = 9 to 8 transition is 8.1298e+05 1 / cm3.\n",
      "The critical density for the CO J = 10 to 9 transition is 1.0183e+06 1 / cm3.\n",
      "The critical density for the CO J = 11 to 10 transition is 1.2526e+06 1 / cm3.\n"
     ]
    }
   ],
   "source": [
    "# Print out each critical density in sentence format\n",
    "for i in np.arange(len(lower)):\n",
    "    print(\"The critical density for the CO J = {} to {} transition is {:.4e}.\".format(upper[i],lower[i],n_cr[i]))\n",
    "# Print out critical densities in easy-to-copy-and-paste format\n",
    "# for i in np.arange(len(lower)):\n",
    "#     print(\"{:.4e}\".format(n_cr[i]))"
   ]
  },
  {
   "cell_type": "markdown",
   "metadata": {},
   "source": [
    "### Calculate the mass fraction above these critical densities for a cloud with given parameters\n",
    "Use equation 4 in Krumholz & Thompson (2007): http://adsabs.harvard.edu/abs/2007ApJ...669..289K"
   ]
  },
  {
   "cell_type": "code",
   "execution_count": 7,
   "metadata": {},
   "outputs": [],
   "source": [
    "def mass_frac(n, n_med, mach):\n",
    "    '''Calculate the mass fraction in a cloud above a provided\n",
    "    density 'n' and provided cloud parameters.'''\n",
    "    sigma = np.sqrt(np.log(1.+(3.*(mach**2.)/4.))) # sigma depends only on mach\n",
    "    n_mean = n_med/np.exp((sigma**2)/2)\n",
    "    x = n/n_mean\n",
    "    return 0.5*(1+math.erf((-2*np.log(x)+sigma**2)/((2.**(3./2.))*sigma)))"
   ]
  },
  {
   "cell_type": "code",
   "execution_count": 8,
   "metadata": {},
   "outputs": [
    {
     "name": "stdout",
     "output_type": "stream",
     "text": [
      "The mass fraction above the critical density for the CO J = 2 to 1 transition is 6.9269e-02.\n",
      "The mass fraction above the critical density for the CO J = 3 to 2 transition is 1.4028e-02.\n",
      "The mass fraction above the critical density for the CO J = 4 to 3 transition is 2.8625e-03.\n",
      "The mass fraction above the critical density for the CO J = 5 to 4 transition is 7.2547e-04.\n",
      "The mass fraction above the critical density for the CO J = 6 to 5 transition is 1.4820e-04.\n",
      "The mass fraction above the critical density for the CO J = 7 to 6 transition is 3.9712e-05.\n",
      "The mass fraction above the critical density for the CO J = 8 to 7 transition is 1.5116e-05.\n",
      "The mass fraction above the critical density for the CO J = 9 to 8 transition is 7.5803e-06.\n",
      "The mass fraction above the critical density for the CO J = 10 to 9 transition is 4.6129e-06.\n",
      "The mass fraction above the critical density for the CO J = 11 to 10 transition is 2.8928e-06.\n"
     ]
    }
   ],
   "source": [
    "n_med = 100./(u.cm**3)\n",
    "mach = 10.\n",
    "# Calculate and print out mass fractions above the critical density\n",
    "for i in np.arange(len(lower)):\n",
    "    mass_fraction = mass_frac(n_cr[i], n_med, mach)\n",
    "    print(\"The mass fraction above the critical density for the CO J = {} to {} transition is {:.4e}.\" \\\n",
    "          .format(upper[i],lower[i],mass_fraction))\n",
    "# Do the same in an easy-to-copy-and-paste format\n",
    "# for i in np.arange(len(lower)):\n",
    "#     mass_fraction = mass_frac(n_cr[i], n_med, mach)\n",
    "#     print(\"{:.4e}\".format(mass_fraction))"
   ]
  }
 ],
 "metadata": {
  "kernelspec": {
   "display_name": "Python 3",
   "language": "python",
   "name": "python3"
  },
  "language_info": {
   "codemirror_mode": {
    "name": "ipython",
    "version": 3
   },
   "file_extension": ".py",
   "mimetype": "text/x-python",
   "name": "python",
   "nbconvert_exporter": "python",
   "pygments_lexer": "ipython3",
   "version": "3.7.3"
  }
 },
 "nbformat": 4,
 "nbformat_minor": 4
}
